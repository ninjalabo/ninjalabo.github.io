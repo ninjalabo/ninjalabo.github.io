{
 "cells": [
  {
   "cell_type": "markdown",
   "id": "abdb1756",
   "metadata": {},
   "source": [
    "# Model Compression\n",
    "## Singular Value Decomposition (SVD) - Resnet18\n",
    "\n",
    "\n",
    "**Singular Value Decomposition (SVD)** is a mathematical technique used to decompose a matrix into three other matrices, which makes it extremely useful for low-rank approximation. Specifically, given an $m \\times n$ matrix $A$, SVD decomposes it as:\n",
    "\n",
    "$$ A = U \\Sigma V^T $$ \n",
    "\n",
    "Where:\n",
    "\n",
    "- **$U$**: An $m \\times m$ orthogonal matrix, whose columns are called left singular vectors.\n",
    "- **$\\Sigma$**: An $m \\times n$ diagonal matrix with non-negative real numbers on the diagonal (these are called singular values).\n",
    "- **$V^T$**: The transpose of an $n \\times n$ orthogonal matrix, whose columns are called right singular vectors.\n",
    "\n",
    "The goal of **Low Rank Factorization** is to approximate $A$ with a matrix of lower rank $k$, where $k < min(m, n)$, to reduce the amount of data and computation while retaining the most important information.\n",
    "\n",
    "\n",
    "![](images/SVD.png)\n",
    "\n",
    "**References**\n",
    "* https://www.youtube.com/watch?v=DG7YTlGnCEo\n"
   ]
  },
  {
   "cell_type": "code",
   "execution_count": 3,
   "id": "e535ff29",
   "metadata": {},
   "outputs": [],
   "source": [
    "import torch\n",
    "import torch.nn as nn\n",
    "import torch.optim as optim\n",
    "import torchvision\n",
    "import torchvision.transforms as transforms\n",
    "from torch.utils.data import DataLoader\n",
    "from torchvision import models\n"
   ]
  },
  {
   "cell_type": "code",
   "execution_count": 4,
   "id": "5da9c188",
   "metadata": {},
   "outputs": [],
   "source": [
    "# Step 1: Load Imagenette Dataset\n",
    "transform = transforms.Compose([\n",
    "    transforms.Resize((320, 320)),  # Resize all images to the same size\n",
    "    transforms.ToTensor(),\n",
    "    transforms.Normalize((0.5, 0.5, 0.5), (0.5, 0.5, 0.5))\n",
    "])\n",
    "\n",
    "trainset = torchvision.datasets.ImageFolder(root='./imagenette/imagenette2-320/train', transform=transform)\n",
    "trainloader = DataLoader(trainset, batch_size=32, shuffle=True)\n",
    "\n",
    "testset = torchvision.datasets.ImageFolder(root='./imagenette/imagenette2-320/val', transform=transform)\n",
    "testloader = DataLoader(testset, batch_size=32, shuffle=False)"
   ]
  },
  {
   "cell_type": "code",
   "execution_count": 5,
   "id": "f2b6d542",
   "metadata": {},
   "outputs": [],
   "source": [
    "# Step 2: Define ResNet-18 Model\n",
    "model = models.resnet18(pretrained=False)\n",
    "model.fc = nn.Linear(model.fc.in_features, 10)  # Adjust the final layer for 10 classes"
   ]
  },
  {
   "cell_type": "code",
   "execution_count": 6,
   "id": "c5b52b52",
   "metadata": {},
   "outputs": [],
   "source": [
    "# Step 3: Apply Low Rank Factorization on Convolutional Layers\n",
    "def low_rank_approximation(conv_layer, rank):\n",
    "    with torch.no_grad():\n",
    "        # Reshape the weight of convolutional layer to 2D tensor for SVD\n",
    "        W = conv_layer.weight.data\n",
    "        out_channels, in_channels, kh, kw = W.size()\n",
    "        W_2d = W.view(out_channels, -1)\n",
    "\n",
    "        # Apply SVD\n",
    "        U, S, V = torch.svd(W_2d)\n",
    "        U_r, S_r, V_r = U[:, :rank], S[:rank], V[:, :rank]\n",
    "        \n",
    "        # Create low-rank approximation\n",
    "        W_low_rank = torch.mm(U_r, torch.diag(S_r)).mm(V_r.t())\n",
    "        W_low_rank = W_low_rank.view(out_channels, in_channels, kh, kw)\n",
    "        \n",
    "        # Update the conv layer weight\n",
    "        conv_layer.weight.data = W_low_rank\n",
    "\n",
    "# Apply Low Rank Approximation to Conv1 and Conv2 layers of ResNet-18\n",
    "rank = 8  # Set rank to be half of the original rank to reduce parameters\n",
    "low_rank_approximation(model.layer1[0].conv1, rank)\n",
    "low_rank_approximation(model.layer1[0].conv2, rank)"
   ]
  },
  {
   "cell_type": "code",
   "execution_count": 7,
   "id": "6a6dd7d6",
   "metadata": {},
   "outputs": [
    {
     "name": "stdout",
     "output_type": "stream",
     "text": [
      "Epoch 1, Batch 100, Loss: 2.092\n",
      "Epoch 1, Batch 200, Loss: 1.813\n",
      "Epoch 2, Batch 100, Loss: 1.549\n",
      "Epoch 2, Batch 200, Loss: 1.418\n",
      "Epoch 3, Batch 100, Loss: 1.292\n",
      "Epoch 3, Batch 200, Loss: 1.268\n",
      "Epoch 4, Batch 100, Loss: 1.103\n",
      "Epoch 4, Batch 200, Loss: 1.096\n",
      "Epoch 5, Batch 100, Loss: 0.997\n",
      "Epoch 5, Batch 200, Loss: 0.988\n"
     ]
    }
   ],
   "source": [
    "# Step 4: Retrain the Model\n",
    "criterion = nn.CrossEntropyLoss()\n",
    "optimizer = optim.SGD(model.parameters(), lr=0.001, momentum=0.9)\n",
    "\n",
    "def train(model, trainloader, criterion, optimizer, epochs=5):\n",
    "    model.train()\n",
    "    for epoch in range(epochs):\n",
    "        running_loss = 0.0\n",
    "        for i, (inputs, labels) in enumerate(trainloader, 0):\n",
    "            optimizer.zero_grad()\n",
    "            outputs = model(inputs)\n",
    "            loss = criterion(outputs, labels)\n",
    "            loss.backward()\n",
    "            optimizer.step()\n",
    "\n",
    "            running_loss += loss.item()\n",
    "            if i % 100 == 99:    # Print every 100 mini-batches\n",
    "                print(f'Epoch {epoch + 1}, Batch {i + 1}, Loss: {running_loss / 100:.3f}')\n",
    "                running_loss = 0.0\n",
    "\n",
    "train(model, trainloader, criterion, optimizer, epochs=5)"
   ]
  },
  {
   "cell_type": "code",
   "execution_count": 8,
   "id": "0797612d",
   "metadata": {},
   "outputs": [
    {
     "name": "stdout",
     "output_type": "stream",
     "text": [
      "Accuracy: 64.79%\n"
     ]
    }
   ],
   "source": [
    "# Step 5: Evaluate the Final Model\n",
    "def evaluate(model, testloader):\n",
    "    model.eval()\n",
    "    correct = 0\n",
    "    total = 0\n",
    "    with torch.no_grad():\n",
    "        for inputs, labels in testloader:\n",
    "            outputs = model(inputs)\n",
    "            _, predicted = torch.max(outputs.data, 1)\n",
    "            total += labels.size(0)\n",
    "            correct += (predicted == labels).sum().item()\n",
    "    \n",
    "    print(f'Accuracy: {100 * correct / total:.2f}%')\n",
    "\n",
    "evaluate(model, testloader)\n"
   ]
  },
  {
   "cell_type": "markdown",
   "id": "7eaa3392",
   "metadata": {},
   "source": [
    "\n",
    "*  References:\n",
    " - https://pytorch.org/docs/stable/generated/torch.svd.html\n",
    " - Sainath, T. N., Kingsbury, B., Sindhwani, V., Arisoy, E., & Ramabhadran, B. (2013). Low-rank matrix factorization for Deep Neural Network training. In ICASSP."
   ]
  }
 ],
 "metadata": {
  "kernelspec": {
   "display_name": "Python 3 (ipykernel)",
   "language": "python",
   "name": "python3"
  },
  "language_info": {
   "codemirror_mode": {
    "name": "ipython",
    "version": 3
   },
   "file_extension": ".py",
   "mimetype": "text/x-python",
   "name": "python",
   "nbconvert_exporter": "python",
   "pygments_lexer": "ipython3",
   "version": "3.8.8"
  }
 },
 "nbformat": 4,
 "nbformat_minor": 5
}
