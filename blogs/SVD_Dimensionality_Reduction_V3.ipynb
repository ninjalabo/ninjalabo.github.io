{
 "cells": [
  {
   "cell_type": "markdown",
   "id": "5f896fe7",
   "metadata": {},
   "source": [
    "# Image Compression \n",
    "\n",
    "## Singular Value Decomposition (SVD) - Dimensionality Reduction Single Image (PyTorch)\n",
    "\n"
   ]
  },
  {
   "cell_type": "code",
   "execution_count": 3,
   "id": "2485f43a",
   "metadata": {},
   "outputs": [],
   "source": [
    "# !pip install torch torchvision"
   ]
  },
  {
   "cell_type": "code",
   "execution_count": 2,
   "id": "c520025d",
   "metadata": {},
   "outputs": [],
   "source": [
    "import torch\n",
    "import torch.nn as nn\n",
    "import torch.optim as optim\n",
    "from torchvision import datasets, transforms\n",
    "from torch.utils.data import DataLoader\n",
    "import numpy as np\n",
    "from PIL import Image\n",
    "import os"
   ]
  },
  {
   "cell_type": "markdown",
   "id": "375edd98",
   "metadata": {},
   "source": [
    "## Download and Load the Dataset\n"
   ]
  },
  {
   "cell_type": "code",
   "execution_count": 4,
   "id": "54b7f618",
   "metadata": {},
   "outputs": [
    {
     "name": "stdout",
     "output_type": "stream",
     "text": [
      "Downloading https://s3.amazonaws.com/fast-ai-imageclas/imagenette2-320.tgz to ./data\\imagenette2-320.tgz\n"
     ]
    },
    {
     "data": {
      "application/vnd.jupyter.widget-view+json": {
       "model_id": "7748233a5ea34125bdeee0d08e89edbd",
       "version_major": 2,
       "version_minor": 0
      },
      "text/plain": [
       "  0%|          | 0/341663724 [00:00<?, ?it/s]"
      ]
     },
     "metadata": {},
     "output_type": "display_data"
    },
    {
     "name": "stdout",
     "output_type": "stream",
     "text": [
      "Extracting ./data\\imagenette2-320.tgz to ./data\n"
     ]
    }
   ],
   "source": [
    "from torchvision.datasets.utils import download_and_extract_archive\n",
    "\n",
    "# Download Imagenette2-320\n",
    "url = \"https://s3.amazonaws.com/fast-ai-imageclas/imagenette2-320.tgz\"\n",
    "root = \"./data\"\n",
    "download_and_extract_archive(url, download_root=root)\n",
    "\n",
    "# Set dataset path\n",
    "dataset_path = os.path.join(root, \"imagenette2-320\")\n"
   ]
  },
  {
   "cell_type": "markdown",
   "id": "5c8060bd",
   "metadata": {},
   "source": [
    "## Define Data Transformations\n",
    "\n",
    "We need to prepare our images for the model. We do this by resizing them to a uniform size and converting them into tensors, which is a format that PyTorch can understand."
   ]
  },
  {
   "cell_type": "code",
   "execution_count": 32,
   "id": "afbcbb66",
   "metadata": {},
   "outputs": [],
   "source": [
    "# Define transformations with data augmentation\n",
    "transform = transforms.Compose([\n",
    "    transforms.Resize((224, 224)),          # Resize images to 224x224\n",
    "    transforms.RandomHorizontalFlip(),      # Augment data with random horizontal flips\n",
    "    transforms.RandomRotation(10),          # Augment data with random rotation\n",
    "    transforms.ToTensor(),                  # Convert images to PyTorch tensors\n",
    "    transforms.Normalize([0.485, 0.456, 0.406], [0.229, 0.224, 0.225]),  # Normalization\n",
    "])"
   ]
  },
  {
   "cell_type": "markdown",
   "id": "5f49cb14",
   "metadata": {},
   "source": [
    "## Load Dataset with DataLoader"
   ]
  },
  {
   "cell_type": "code",
   "execution_count": 33,
   "id": "545cfcf4",
   "metadata": {},
   "outputs": [],
   "source": [
    "\n",
    "# Load datasets\n",
    "train_dataset = datasets.ImageFolder(root=os.path.join(dataset_path, 'train'), transform=transform)\n",
    "valid_dataset = datasets.ImageFolder(root=os.path.join(dataset_path, 'val'), transform=transform)\n",
    "\n",
    "# Create DataLoaders\n",
    "train_loader = DataLoader(train_dataset, batch_size=32, shuffle=True)\n",
    "valid_loader = DataLoader(valid_dataset, batch_size=32, shuffle=False)"
   ]
  },
  {
   "cell_type": "markdown",
   "id": "aa226bd2",
   "metadata": {},
   "source": [
    "## Perform SVD for Dimensionality Reduction\n",
    "To apply SVD, we will take a batch of images from the DataLoader, flatten them, and perform SVD on the flattened matrix.\n",
    "\n",
    "Think of each image as a large grid of numbers. We want to compress these images while keeping the most important information. SVD breaks the image into three components that can be used to find a reduced version that still contains the important features.\n",
    "\n",
    "* Flatten Images: We reshape each image into a long row of numbers.\n",
    "* SVD: We apply SVD to the flattened images to find patterns in the data.\n",
    "* Retain Top k Features: We keep the top 100 components, which means we are compressing the data but keeping the main information."
   ]
  },
  {
   "cell_type": "code",
   "execution_count": 34,
   "id": "7cdba804",
   "metadata": {},
   "outputs": [
    {
     "name": "stdout",
     "output_type": "stream",
     "text": [
      "Original shape: torch.Size([32, 150528])\n",
      "Reduced shape after SVD: torch.Size([32, 32])\n"
     ]
    }
   ],
   "source": [
    "# Get a batch of images and labels\n",
    "images, labels = next(iter(train_loader))\n",
    "\n",
    "# Flatten images to apply SVD\n",
    "n_samples, c, h, w = images.shape\n",
    "images_flat = images.view(n_samples, -1)  # Shape: (n_samples, c*h*w)\n",
    "\n",
    "# Apply SVD\n",
    "U, S, V = torch.svd(images_flat)\n",
    "\n",
    "# Retain top k singular values for dimensionality reduction\n",
    "k = 100  # Choose top k components\n",
    "U_reduced = U[:, :k]  # Shape: (n_samples, k)\n",
    "\n",
    "print(f'Original shape: {images_flat.shape}')\n",
    "print(f'Reduced shape after SVD: {U_reduced.shape}')\n"
   ]
  },
  {
   "cell_type": "markdown",
   "id": "a41da19b",
   "metadata": {},
   "source": [
    "## Train a Simple Neural Network on SVD-Reduced Features\n",
    "\n",
    "Now that we have reduced features using SVD, let’s train a simple feed-forward neural network on these features."
   ]
  },
  {
   "cell_type": "markdown",
   "id": "d68b55b5",
   "metadata": {},
   "source": [
    "## Define Custom Dataset"
   ]
  },
  {
   "cell_type": "code",
   "execution_count": 35,
   "id": "26e9c572",
   "metadata": {},
   "outputs": [],
   "source": [
    "class SVDImageDataset(torch.utils.data.Dataset):\n",
    "    def __init__(self, loader, k):\n",
    "        self.loader = loader\n",
    "        self.data = []\n",
    "        self.labels = []\n",
    "        self.k = k  # Number of singular values/components to retain\n",
    "\n",
    "        # Process each batch\n",
    "        for images, labels in loader:\n",
    "            for i in range(images.size(0)):\n",
    "                # Flatten the image to 1D\n",
    "                image_flat = images[i].view(-1).float()\n",
    "\n",
    "                # Make the flattened image a 2D matrix for SVD application\n",
    "                image_flat_matrix = image_flat.unsqueeze(0)  # Shape: (1, flattened_length)\n",
    "\n",
    "                # Apply SVD on the image, consider it as a 1-row matrix\n",
    "                U, S, V = torch.svd(image_flat_matrix)\n",
    "\n",
    "                # Keep only the top `k` components (the first `k` values of U)\n",
    "                if U.shape[1] >= k:\n",
    "                    U_reduced = U[:, :self.k]  # Shape will be (1, k)\n",
    "                else:\n",
    "                    # If `U` has fewer components than `k`, pad it to ensure consistency\n",
    "                    U_reduced = torch.cat([U, torch.zeros((U.shape[0], k - U.shape[1]))], dim=1)\n",
    "\n",
    "                # Store the reduced representation\n",
    "                self.data.append(U_reduced.view(-1))  # Flatten the matrix to have a size (k,)\n",
    "                self.labels.append(labels[i])\n",
    "\n",
    "        # Stack data and labels to create the dataset\n",
    "        self.data = torch.stack(self.data)  # Shape: (number_of_images, k)\n",
    "        self.labels = torch.tensor(self.labels)  # Shape: (number_of_images,)\n",
    "\n",
    "    def __len__(self):\n",
    "        return len(self.data)\n",
    "\n",
    "    def __getitem__(self, idx):\n",
    "        return self.data[idx], self.labels[idx]\n",
    "\n",
    "# Set the number of components to retain\n",
    "k = 100\n",
    "\n",
    "# Create reduced dataset using SVD\n",
    "svd_train_dataset = SVDImageDataset(train_loader, k)\n",
    "svd_valid_dataset = SVDImageDataset(valid_loader, k)\n",
    "\n",
    "# Create DataLoaders\n",
    "svd_train_loader = DataLoader(svd_train_dataset, batch_size=32, shuffle=True)\n",
    "svd_valid_loader = DataLoader(svd_valid_dataset, batch_size=32, shuffle=False)\n"
   ]
  },
  {
   "cell_type": "markdown",
   "id": "90db6d51",
   "metadata": {},
   "source": [
    "## Define Neural Network\n",
    "The model is a simple neural network with just a few layers. It takes the reduced data as input and learns to classify the images.\n",
    "\n",
    "* SimpleClassifier: A small neural network with a couple of layers.\n",
    "* Loss Function & Optimizer: We use cross-entropy loss and Adam optimizer to train the model."
   ]
  },
  {
   "cell_type": "code",
   "execution_count": 36,
   "id": "21d3f490",
   "metadata": {},
   "outputs": [],
   "source": [
    "# Define a simple fully connected neural network for classification\n",
    "class SimpleClassifier(nn.Module):\n",
    "    def __init__(self, input_size, num_classes):\n",
    "        super(SimpleClassifier, self).__init__()\n",
    "        self.fc1 = nn.Linear(input_size, 64)\n",
    "        self.relu = nn.ReLU()\n",
    "        self.fc2 = nn.Linear(64, num_classes)\n",
    "\n",
    "    def forward(self, x):\n",
    "        x = self.fc1(x)\n",
    "        x = self.relu(x)\n",
    "        x = self.fc2(x)\n",
    "        return x\n",
    "\n",
    "# Initialize model, loss function, and optimizer\n",
    "input_size = k  # We reduced the original dimensions to k with SVD\n",
    "num_classes = len(train_dataset.classes)\n",
    "model = SimpleClassifier(input_size, num_classes)\n",
    "\n",
    "criterion = nn.CrossEntropyLoss()\n",
    "optimizer = optim.Adam(model.parameters(), lr=0.001)\n"
   ]
  },
  {
   "cell_type": "markdown",
   "id": "9858d7a9",
   "metadata": {},
   "source": [
    "## Train the Model"
   ]
  },
  {
   "cell_type": "code",
   "execution_count": 40,
   "id": "fa373e87",
   "metadata": {},
   "outputs": [
    {
     "name": "stdout",
     "output_type": "stream",
     "text": [
      "Epoch [1/100], Loss: 2.3018\n",
      "Epoch [2/100], Loss: 2.3018\n",
      "Epoch [3/100], Loss: 2.3018\n",
      "Epoch [4/100], Loss: 2.3018\n",
      "Epoch [5/100], Loss: 2.3018\n",
      "Epoch [6/100], Loss: 2.3018\n",
      "Epoch [7/100], Loss: 2.3018\n",
      "Epoch [8/100], Loss: 2.3018\n",
      "Epoch [9/100], Loss: 2.3018\n",
      "Epoch [10/100], Loss: 2.3018\n",
      "Epoch [11/100], Loss: 2.3018\n",
      "Epoch [12/100], Loss: 2.3018\n",
      "Epoch [13/100], Loss: 2.3018\n",
      "Epoch [14/100], Loss: 2.3018\n",
      "Epoch [15/100], Loss: 2.3018\n",
      "Epoch [16/100], Loss: 2.3018\n",
      "Epoch [17/100], Loss: 2.3017\n",
      "Epoch [18/100], Loss: 2.3018\n",
      "Epoch [19/100], Loss: 2.3018\n",
      "Epoch [20/100], Loss: 2.3017\n",
      "Epoch [21/100], Loss: 2.3018\n",
      "Epoch [22/100], Loss: 2.3018\n",
      "Epoch [23/100], Loss: 2.3018\n",
      "Epoch [24/100], Loss: 2.3018\n",
      "Epoch [25/100], Loss: 2.3018\n",
      "Epoch [26/100], Loss: 2.3018\n",
      "Epoch [27/100], Loss: 2.3017\n",
      "Epoch [28/100], Loss: 2.3018\n",
      "Epoch [29/100], Loss: 2.3018\n",
      "Epoch [30/100], Loss: 2.3017\n",
      "Epoch [31/100], Loss: 2.3018\n",
      "Epoch [32/100], Loss: 2.3018\n",
      "Epoch [33/100], Loss: 2.3017\n",
      "Epoch [34/100], Loss: 2.3018\n",
      "Epoch [35/100], Loss: 2.3018\n",
      "Epoch [36/100], Loss: 2.3018\n",
      "Epoch [37/100], Loss: 2.3017\n",
      "Epoch [38/100], Loss: 2.3018\n",
      "Epoch [39/100], Loss: 2.3018\n",
      "Epoch [40/100], Loss: 2.3018\n",
      "Epoch [41/100], Loss: 2.3018\n",
      "Epoch [42/100], Loss: 2.3018\n",
      "Epoch [43/100], Loss: 2.3018\n",
      "Epoch [44/100], Loss: 2.3018\n",
      "Epoch [45/100], Loss: 2.3018\n",
      "Epoch [46/100], Loss: 2.3018\n",
      "Epoch [47/100], Loss: 2.3017\n",
      "Epoch [48/100], Loss: 2.3018\n",
      "Epoch [49/100], Loss: 2.3018\n",
      "Epoch [50/100], Loss: 2.3017\n",
      "Epoch [51/100], Loss: 2.3018\n",
      "Epoch [52/100], Loss: 2.3018\n",
      "Epoch [53/100], Loss: 2.3018\n",
      "Epoch [54/100], Loss: 2.3017\n",
      "Epoch [55/100], Loss: 2.3018\n",
      "Epoch [56/100], Loss: 2.3018\n",
      "Epoch [57/100], Loss: 2.3018\n",
      "Epoch [58/100], Loss: 2.3018\n",
      "Epoch [59/100], Loss: 2.3018\n",
      "Epoch [60/100], Loss: 2.3018\n",
      "Epoch [61/100], Loss: 2.3018\n",
      "Epoch [62/100], Loss: 2.3017\n",
      "Epoch [63/100], Loss: 2.3018\n",
      "Epoch [64/100], Loss: 2.3018\n",
      "Epoch [65/100], Loss: 2.3017\n",
      "Epoch [66/100], Loss: 2.3018\n",
      "Epoch [67/100], Loss: 2.3018\n",
      "Epoch [68/100], Loss: 2.3018\n",
      "Epoch [69/100], Loss: 2.3018\n",
      "Epoch [70/100], Loss: 2.3018\n",
      "Epoch [71/100], Loss: 2.3018\n",
      "Epoch [72/100], Loss: 2.3018\n",
      "Epoch [73/100], Loss: 2.3018\n",
      "Epoch [74/100], Loss: 2.3018\n",
      "Epoch [75/100], Loss: 2.3018\n",
      "Epoch [76/100], Loss: 2.3017\n",
      "Epoch [77/100], Loss: 2.3018\n",
      "Epoch [78/100], Loss: 2.3017\n",
      "Epoch [79/100], Loss: 2.3018\n",
      "Epoch [80/100], Loss: 2.3017\n",
      "Epoch [81/100], Loss: 2.3018\n",
      "Epoch [82/100], Loss: 2.3018\n",
      "Epoch [83/100], Loss: 2.3017\n",
      "Epoch [84/100], Loss: 2.3018\n",
      "Epoch [85/100], Loss: 2.3018\n",
      "Epoch [86/100], Loss: 2.3017\n",
      "Epoch [87/100], Loss: 2.3017\n",
      "Epoch [88/100], Loss: 2.3018\n",
      "Epoch [89/100], Loss: 2.3018\n",
      "Epoch [90/100], Loss: 2.3018\n",
      "Epoch [91/100], Loss: 2.3018\n",
      "Epoch [92/100], Loss: 2.3018\n",
      "Epoch [93/100], Loss: 2.3018\n",
      "Epoch [94/100], Loss: 2.3017\n",
      "Epoch [95/100], Loss: 2.3018\n",
      "Epoch [96/100], Loss: 2.3018\n",
      "Epoch [97/100], Loss: 2.3018\n",
      "Epoch [98/100], Loss: 2.3017\n",
      "Epoch [99/100], Loss: 2.3018\n",
      "Epoch [100/100], Loss: 2.3018\n",
      "Training complete.\n"
     ]
    }
   ],
   "source": [
    "# Training loop\n",
    "num_epochs = 100\n",
    "for epoch in range(num_epochs):\n",
    "    model.train()\n",
    "    running_loss = 0.0\n",
    "    for features, labels in svd_train_loader:\n",
    "        # Move features and labels to the appropriate device\n",
    "        features, labels = features.to(device), labels.to(device)\n",
    "\n",
    "        # Zero the parameter gradients\n",
    "        optimizer.zero_grad()\n",
    "\n",
    "        # Forward pass\n",
    "        outputs = model(features)\n",
    "        loss = criterion(outputs, labels)\n",
    "\n",
    "        # Backward pass and optimize\n",
    "        loss.backward()\n",
    "        optimizer.step()\n",
    "\n",
    "        running_loss += loss.item()\n",
    "\n",
    "    print(f'Epoch [{epoch+1}/{num_epochs}], Loss: {running_loss/len(svd_train_loader):.4f}')\n",
    "\n",
    "print(\"Training complete.\")\n"
   ]
  },
  {
   "cell_type": "markdown",
   "id": "3d092f07",
   "metadata": {},
   "source": [
    "##  Evaluate the Model"
   ]
  },
  {
   "cell_type": "code",
   "execution_count": 42,
   "id": "5ccc0473",
   "metadata": {},
   "outputs": [
    {
     "name": "stdout",
     "output_type": "stream",
     "text": [
      "Validation Accuracy: 9.10%\n"
     ]
    }
   ],
   "source": [
    " #Validation loop\n",
    "model.eval()\n",
    "correct = 0\n",
    "total = 0\n",
    "with torch.no_grad():\n",
    "    for features, labels in svd_valid_loader:\n",
    "        outputs = model(features)\n",
    "        _, predicted = torch.max(outputs.data, 1)\n",
    "        total += labels.size(0)\n",
    "        correct += (predicted == labels).sum().item()\n",
    "\n",
    "print(f'Validation Accuracy: {100 * correct / total:.2f}%')\n"
   ]
  },
  {
   "cell_type": "code",
   "execution_count": null,
   "id": "daa10490",
   "metadata": {},
   "outputs": [],
   "source": []
  }
 ],
 "metadata": {
  "kernelspec": {
   "display_name": "Python 3 (ipykernel)",
   "language": "python",
   "name": "python3"
  },
  "language_info": {
   "codemirror_mode": {
    "name": "ipython",
    "version": 3
   },
   "file_extension": ".py",
   "mimetype": "text/x-python",
   "name": "python",
   "nbconvert_exporter": "python",
   "pygments_lexer": "ipython3",
   "version": "3.8.8"
  }
 },
 "nbformat": 4,
 "nbformat_minor": 5
}
